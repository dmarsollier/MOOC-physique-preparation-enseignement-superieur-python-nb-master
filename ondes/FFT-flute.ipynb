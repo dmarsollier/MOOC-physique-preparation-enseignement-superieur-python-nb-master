{
 "cells": [
  {
   "cell_type": "markdown",
   "metadata": {},
   "source": [
    "<img src=\"media/CC-BY-NC-ND.png\" alt=\"Drawing\" style=\"width: 150px;\"/> \n",
    "\n",
    "**Auteur** : Christophe Jorssen"
   ]
  },
  {
   "cell_type": "markdown",
   "metadata": {},
   "source": [
    "Commençons par importer les bibliothèques « classiques »."
   ]
  },
  {
   "cell_type": "code",
   "execution_count": null,
   "metadata": {},
   "outputs": [],
   "source": [
    "%matplotlib notebook\n",
    "\n",
    "import numpy as np\n",
    "from matplotlib import pyplot as plt"
   ]
  },
  {
   "cell_type": "markdown",
   "metadata": {},
   "source": [
    "Nous utilisons ici le paquet [`fft`](https://docs.scipy.org/doc/numpy/reference/routines.fft.html) de numpy afin de réaliser une analyse spectrale numérique en utilisant l'algorithme de transformée de Fourier rapide (*Fast Fourier Transform*)."
   ]
  },
  {
   "cell_type": "code",
   "execution_count": null,
   "metadata": {},
   "outputs": [],
   "source": [
    "from numpy import fft as fft"
   ]
  },
  {
   "cell_type": "markdown",
   "metadata": {},
   "source": [
    "Nous utilisons aussi [`wavefile`](https://docs.scipy.org/doc/scipy/reference/io.html#module-scipy.io.wavfile) du paquet `io` de `scipy` qui permet de lire un fichier `.wav`."
   ]
  },
  {
   "cell_type": "code",
   "execution_count": null,
   "metadata": {},
   "outputs": [],
   "source": [
    "import scipy.io.wavfile as wav"
   ]
  },
  {
   "cell_type": "markdown",
   "metadata": {},
   "source": [
    "Enfin, nous utilisons un `widget` propre à `jupyter` qui permet de jouer un son *via* le navigateur."
   ]
  },
  {
   "cell_type": "code",
   "execution_count": null,
   "metadata": {},
   "outputs": [],
   "source": [
    "from IPython.display import Audio"
   ]
  },
  {
   "cell_type": "markdown",
   "metadata": {},
   "source": [
    "`filename` est une chaîne de caractères contenant le chemin du fichier `.wav` contenant le son à étudier. Il y a en deux de disponible :\n",
    "* `media/audacity-flute-alto-A440-44100.wav` qui est un fichier que j'ai enregistré ;\n",
    "* `media/guitar_A4_very-long_forte_normal.wav` qui est un fichier extrait de la [base de données du Philharmonia Orchestra](https://www.philharmonia.co.uk/explore/sound_samples).\n",
    "\n",
    "Je me sers du premier mais tu pourras t'amuser à utiliser le second."
   ]
  },
  {
   "cell_type": "code",
   "execution_count": null,
   "metadata": {},
   "outputs": [],
   "source": [
    "filename = 'media/audacity-flute-alto-A440-44100.wav'\n",
    "#filename = 'media/guitar_A4_very-long_forte_normal.wav'"
   ]
  },
  {
   "cell_type": "markdown",
   "metadata": {},
   "source": [
    "Lors de la lecture du fichier `.wav`, `wavefile` renvoie la fréquence d'échantillonnage (`f_sampling`) en hertz et un `ndarray` contenant les échantillons (`sampled_wave`)."
   ]
  },
  {
   "cell_type": "code",
   "execution_count": null,
   "metadata": {},
   "outputs": [],
   "source": [
    "f_sampling, sampled_wave = wav.read(filename)"
   ]
  },
  {
   "cell_type": "markdown",
   "metadata": {},
   "source": [
    "Te rappelles-tu de la fréquence d'échantillonnage couramment utilisée en audio ? Tu peux vérifier !"
   ]
  },
  {
   "cell_type": "code",
   "execution_count": null,
   "metadata": {},
   "outputs": [],
   "source": [
    "f_sampling"
   ]
  },
  {
   "cell_type": "markdown",
   "metadata": {},
   "source": [
    "Grâce à la ligne suivante, `jupyter` te permet de jouer le son dans ton navigateur."
   ]
  },
  {
   "cell_type": "code",
   "execution_count": null,
   "metadata": {},
   "outputs": [],
   "source": [
    "Audio(filename)"
   ]
  },
  {
   "cell_type": "markdown",
   "metadata": {},
   "source": [
    "On définit le nombre d'échantillons `N_samples` (c'est tout simplement le nombre d'éléments de `sampled_wave`) et la durée de l'échantillon `duration`."
   ]
  },
  {
   "cell_type": "code",
   "execution_count": null,
   "metadata": {},
   "outputs": [],
   "source": [
    "N_samples = sampled_wave.size\n",
    "duration = N_samples / f_sampling"
   ]
  },
  {
   "cell_type": "markdown",
   "metadata": {},
   "source": [
    "Ça fait pas mal d'échantillons !"
   ]
  },
  {
   "cell_type": "code",
   "execution_count": null,
   "metadata": {},
   "outputs": [],
   "source": [
    "N_samples"
   ]
  },
  {
   "cell_type": "markdown",
   "metadata": {},
   "source": [
    "La période d'échantillonnage `T_sampling` permet d'obtenir les dates `t` des échantillons."
   ]
  },
  {
   "cell_type": "code",
   "execution_count": null,
   "metadata": {},
   "outputs": [],
   "source": [
    "T_sampling = 1 / f_sampling\n",
    "\n",
    "t = T_sampling * np.arange(0, N_samples)"
   ]
  },
  {
   "cell_type": "markdown",
   "metadata": {},
   "source": [
    "Et on peut maintenant tracer l'échantillon. "
   ]
  },
  {
   "cell_type": "code",
   "execution_count": null,
   "metadata": {},
   "outputs": [],
   "source": [
    "fig1, ax = plt.subplots()\n",
    "\n",
    "ax.plot(t, sampled_wave)\n",
    "ax.set_xlabel(r'$t$ (s)')\n",
    "ax.set_ylabel('Amplitude (unité arbitraire)')\n",
    "fig1.show()"
   ]
  },
  {
   "cell_type": "markdown",
   "metadata": {},
   "source": [
    "De nouveau, on voit qu'il y a beaucoup d'échantillons... Ce n'est pas très lisible. C'est typiquement ce que tu as pu voir en terminale dans un logiciel comme [audacity](https://www.audacityteam.org/).\n",
    "\n",
    "Je te propose que nous nous intéressions à un échantillon réduit : nous n'allons considérer que les $2^{10}$ premiers échantillons du fichier `.wav`."
   ]
  },
  {
   "cell_type": "code",
   "execution_count": null,
   "metadata": {},
   "outputs": [],
   "source": [
    "fig2, ax2 = plt.subplots()\n",
    "\n",
    "ax2.plot(t[:2**10], sampled_wave[:2**10])\n",
    "ax2.set_xlabel(r'$t$ (s)')\n",
    "ax2.set_ylabel('Amplitude (unité arbitraire)')\n",
    "fig2.show()"
   ]
  },
  {
   "cell_type": "markdown",
   "metadata": {},
   "source": [
    "Sympa, non ? On reconnaît bien la nature périodique de l'onde.\n",
    "\n",
    "Passons à l'analyse spectrale numérique sur ce nombre `N_samples_fft` réduit d'échantillons (pour que l'algorithme FFT fonctionne correctement, il faut que ce nombre soit une puissance de $2$)."
   ]
  },
  {
   "cell_type": "code",
   "execution_count": null,
   "metadata": {},
   "outputs": [],
   "source": [
    "N_samples_fft = 2**10\n",
    "if N_samples_fft > N_samples:\n",
    "    print('N_samples_fft trop grand')\n",
    "amplitude_spectrum = np.abs(fft.fft(sampled_wave[:N_samples_fft]))\n",
    "phase_spectrum = np.angle(fft.fft(sampled_wave[:N_samples_fft]))\n",
    "normalized_amplitude_spectrum = amplitude_spectrum / amplitude_spectrum.max()"
   ]
  },
  {
   "cell_type": "markdown",
   "metadata": {},
   "source": [
    "On définit les fréquences discrètes associées à l'analyse spectrale numérique (le critère de Shannon impose la fréquence maximale donnée par l'analyse spectrale numérique comme étant égale à la moitié de la fréquence d'échantillonnage)."
   ]
  },
  {
   "cell_type": "code",
   "execution_count": null,
   "metadata": {},
   "outputs": [],
   "source": [
    "f = f_sampling * np.arange(0, N_samples_fft // 2) / N_samples_fft"
   ]
  },
  {
   "cell_type": "markdown",
   "metadata": {},
   "source": [
    "On trace le spectre en amplitude. Que constates-tu ? Où sont les pics ?"
   ]
  },
  {
   "cell_type": "code",
   "execution_count": null,
   "metadata": {},
   "outputs": [],
   "source": [
    "fig3, ax3 = plt.subplots()\n",
    "ax3.vlines(f, [0], normalized_amplitude_spectrum[:N_samples_fft // 2], 'r')\n",
    "fig3.show()"
   ]
  },
  {
   "cell_type": "markdown",
   "metadata": {},
   "source": [
    "Pour s'amuser, on peut vérifier que l'analyse spectrale numérique fournit une décomposition de Fourier correcte en recomposant le signal à partir des composantes spectrales."
   ]
  },
  {
   "cell_type": "code",
   "execution_count": null,
   "metadata": {},
   "outputs": [],
   "source": [
    "t_fft = T_sampling * np.arange(0, N_samples_fft)\n",
    "wave = np.zeros(N_samples_fft)\n",
    "for i in range(N_samples_fft // 2):\n",
    "    wave += amplitude_spectrum[i] * np.cos(2 * np.pi * f[i] * t_fft + phase_spectrum[i])"
   ]
  },
  {
   "cell_type": "markdown",
   "metadata": {},
   "source": [
    "Et traçons le résultat."
   ]
  },
  {
   "cell_type": "code",
   "execution_count": null,
   "metadata": {},
   "outputs": [],
   "source": [
    "fig4, ax4 = plt.subplots()\n",
    "ax4.plot(t_fft, wave / N_samples_fft * 2)\n",
    "fig4.show()"
   ]
  },
  {
   "cell_type": "markdown",
   "metadata": {},
   "source": [
    "Ça y ressemble ! Écoutons le résultat."
   ]
  },
  {
   "cell_type": "code",
   "execution_count": null,
   "metadata": {},
   "outputs": [],
   "source": [
    "Audio(wave, rate = f_sampling)"
   ]
  },
  {
   "cell_type": "code",
   "execution_count": null,
   "metadata": {},
   "outputs": [],
   "source": []
  }
 ],
 "metadata": {
  "kernelspec": {
   "display_name": "Python 3",
   "language": "python",
   "name": "python3"
  },
  "language_info": {
   "codemirror_mode": {
    "name": "ipython",
    "version": 3
   },
   "file_extension": ".py",
   "mimetype": "text/x-python",
   "name": "python",
   "nbconvert_exporter": "python",
   "pygments_lexer": "ipython3",
   "version": "3.6.6"
  },
  "notebookname": "FFT-flute",
  "version": "1.0"
 },
 "nbformat": 4,
 "nbformat_minor": 2
}
