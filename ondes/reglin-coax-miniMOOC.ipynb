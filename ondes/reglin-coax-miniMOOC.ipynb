{
 "cells": [
  {
   "cell_type": "markdown",
   "metadata": {},
   "source": [
    "<img src=\"media/CC-BY-NC-ND.png\" alt=\"Drawing\" style=\"width: 150px;\"/> \n",
    "\n",
    "**Auteur** : Christophe Jorssen"
   ]
  },
  {
   "cell_type": "code",
   "execution_count": null,
   "metadata": {},
   "outputs": [],
   "source": [
    "%matplotlib notebook\n",
    "import numpy as np\n",
    "from scipy.stats import linregress\n",
    "from matplotlib import pyplot as plt\n",
    "\n",
    "x = [100, 200, 300] # m\n",
    "Delta_t = [480E-9, 1000E-9, 1520E-9] # s\n",
    "\n",
    "slope, intersept, R, foo, bar = linregress(Delta_t, x)\n",
    "\n",
    "fig, ax = plt.subplots()\n",
    "\n",
    "ax.plot(Delta_t, x, '+')\n",
    "ax.plot([Delta_t[0], Delta_t[-1]], [slope * Delta_t[0] + intersept, slope * Delta_t[-1] + intersept])\n",
    "fig.show()"
   ]
  },
  {
   "cell_type": "code",
   "execution_count": null,
   "metadata": {},
   "outputs": [],
   "source": [
    "print('celerité = {0:1.2e} m/s'.format(slope))"
   ]
  },
  {
   "cell_type": "code",
   "execution_count": null,
   "metadata": {},
   "outputs": [],
   "source": []
  }
 ],
 "metadata": {
  "kernelspec": {
   "display_name": "Python 3",
   "language": "python",
   "name": "python3"
  },
  "language_info": {
   "codemirror_mode": {
    "name": "ipython",
    "version": 3
   },
   "file_extension": ".py",
   "mimetype": "text/x-python",
   "name": "python",
   "nbconvert_exporter": "python",
   "pygments_lexer": "ipython3",
   "version": "3.6.6"
  },
  "notebookname": "Regression linéaire câble coaxial",
  "version": "1.0"
 },
 "nbformat": 4,
 "nbformat_minor": 2
}
