{
 "cells": [
  {
   "cell_type": "markdown",
   "metadata": {},
   "source": [
    "<img src=\"media/CC-BY-NC-ND.png\" alt=\"Drawing\" style=\"width: 150px;\"/> \n",
    "\n",
    "**Auteur** : Christophe Jorssen"
   ]
  },
  {
   "cell_type": "markdown",
   "metadata": {},
   "source": [
    "Dans ce *notebook*, je te propose de visualiser simultanément la double dépendance en $x$ et en $t$ du champ de déplacement $u_{z, \\nearrow}(x, t) = A \\cos\\left(2 \\pi \\frac{x}{\\lambda} - 2 \\pi f t + \\varphi \\right)$ correspondant à une onde progressive harmonique se propageant selon les $x$ croissant."
   ]
  },
  {
   "cell_type": "code",
   "execution_count": null,
   "metadata": {},
   "outputs": [],
   "source": [
    "%matplotlib notebook\n",
    "from ipywidgets import interact\n",
    "import numpy as np\n",
    "import matplotlib.pyplot as plt\n",
    "import mpl_toolkits.mplot3d.axes3d"
   ]
  },
  {
   "cell_type": "markdown",
   "metadata": {},
   "source": [
    "Comme nous l'avons déjà fait précédemment, la cellule ci-dessous va définir une figure interactive. Trois représentations graphiques vont apparaître : \n",
    "\n",
    "* la surface $u_{z, \\nearrow}(x, t)$ pour $x \\in [x_{\\min}, x_{\\max}]$ et $t \\in [t_{\\min}, t_{\\max}]$ ;\n",
    "* l'évolution au cours du temps du champ de déplacement $u_{z, \\nearrow}(x_0, t)$ au point d'abscisse $x_0$ de la corde ;\n",
    "* la forme de la corde à la date $t_0$, c'est-à-dire l'évolution du champ de déplacement $u_{z, \\nearrow}(x, t_0)$ pour $x \\in [x_{\\min}, x_{\\max}]$.\n",
    "\n",
    "Tu n'as qu'à exécuter la cellule ci-dessous et à « jouer » avec les paramètres $x_0$, $t_0$, $\\lambda$ et $\\varphi$. N'oublie pas que $\\lambda$ et $f$ ne sont pas des grandeurs indépendantes. Elles sont liées par la relation de dispersion $\\lambda f = c$. C'est la raison pour laquelle tu ne peux pas modifier $\\lambda$ et $f$ séparément à célérité $c$ fixée.\n",
    "\n",
    "Note technique : `lambda` est un mot-clé du language Python, c'est la raison pour laquelle j'appelle `Lambda` la longueur d'onde $\\lambda$."
   ]
  },
  {
   "cell_type": "code",
   "execution_count": null,
   "metadata": {},
   "outputs": [],
   "source": [
    "A = 1 # m\n",
    "\n",
    "def f(x, t, Lambda, phi):\n",
    "    # Lambda (m)\n",
    "    # f (Hz)\n",
    "    # phi (°)\n",
    "    \n",
    "    f = c / Lambda\n",
    "    \n",
    "    return A * np.cos(2 * np.pi * (x / Lambda) - 2 * np.pi * f * t + phi * (np.pi / 180))\n",
    "\n",
    "xmin = -5 ; xmax = 5 # m\n",
    "tmin = 0 ; tmax = 5 # s\n",
    "c = 1 # m/s\n",
    "\n",
    "\n",
    "def plot_wave(x0 = 2, t0 = 3, Lambda = xmax, phi = 0):\n",
    "    \n",
    "    fig = plt.figure()\n",
    "    ax1 = plt.subplot2grid((3, 2), (0, 0), colspan = 2, rowspan = 2, projection = '3d')\n",
    "    ax2 = plt.subplot2grid((3, 2), (2, 0))\n",
    "    ax3 = plt.subplot2grid((3, 2), (2, 1))\n",
    "\n",
    "    x = np.linspace(xmin, xmax, 100)\n",
    "    t = np.linspace(tmin, tmax, 100)\n",
    "    x_mesh, t_mesh = np.meshgrid(x, t)\n",
    "\n",
    "    ax1.set_xlabel(r'$x$ (m)')\n",
    "    ax1.set_ylabel(r'$t$ (s)')\n",
    "    ax1.set_zlabel(r'$u_{z, \\nearrow}(x, t)$ (m)')\n",
    "\n",
    "    ax1.view_init(elev = 15, azim = 70)\n",
    "\n",
    "    ax1.plot_surface(x_mesh, t_mesh, f(x_mesh, t_mesh, Lambda, phi))\n",
    "\n",
    "    ax1.plot([x0 for _ in range(len(t))], t, f(x0, t, Lambda, phi), 'r', lw = 2)\n",
    "\n",
    "    ax1.plot(x, [t0 for _ in range(len(x))], f(x, t0, Lambda, phi), 'g', lw = 2)\n",
    "\n",
    "    ax2.set_xlabel(r'$t$ (s)')\n",
    "    ax2.set_ylabel(r'$u_{z, \\nearrow}(x_0 = $' + '{0} m'.format(x0) + r'$, t)$ (m)')\n",
    "\n",
    "    ax2.plot(t, f(x0, t, Lambda, phi), 'r')\n",
    "\n",
    "    ax3.set_xlabel(r'$x$ (m)')\n",
    "    ax3.set_ylabel(r'$u_{z, \\nearrow}(x, t_0 = $' + '{0} s) (m)'.format(t0))\n",
    "    ax3.yaxis.set_label_position('right')\n",
    "\n",
    "    ax3.plot(x, f(x, t0, Lambda, phi), 'g')\n",
    "\n",
    "    plt.show()\n",
    "    \n",
    "interact(plot_wave, x0 = (xmin, xmax, 0.5), t0 = (tmin, tmax, 0.5), Lambda = (0, xmax, .5), phi = (-180, 180, 10));"
   ]
  },
  {
   "cell_type": "code",
   "execution_count": null,
   "metadata": {},
   "outputs": [],
   "source": []
  }
 ],
 "metadata": {
  "kernelspec": {
   "display_name": "Python 3",
   "language": "python",
   "name": "python3"
  },
  "language_info": {
   "codemirror_mode": {
    "name": "ipython",
    "version": 3
   },
   "file_extension": ".py",
   "mimetype": "text/x-python",
   "name": "python",
   "nbconvert_exporter": "python",
   "pygments_lexer": "ipython3",
   "version": "3.6.6"
  },
  "notebookname": "Double dépendance onde progressive harmonique",
  "version": "1.0"
 },
 "nbformat": 4,
 "nbformat_minor": 2
}
