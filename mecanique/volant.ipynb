{
 "cells": [
  {
   "cell_type": "markdown",
   "metadata": {},
   "source": [
    "<img src=\"media/CC-BY-NC-ND.png\" alt=\"Drawing\" style=\"width: 150px;\"/> \n",
    "\n",
    "**Auteur** : Christophe Jorssen"
   ]
  },
  {
   "cell_type": "markdown",
   "metadata": {},
   "source": [
    "Bienvenue dans cette activité informatique. \n",
    "\n",
    "Comme dans l'activité informatique précédente, je te propose d'utiliser le language Python et quelques unes de ses bibliothèques scientifiques. \n",
    "\n",
    "Commence par exécuter la cellule suivante sans te soucier du contenu. Tu te rappelles : il suffit de sélectionner la cellule et d'appuyer sur <kbd>SHIFT</kbd>+<kbd>ENTER</kbd> (ou <kbd>MAJ</kbd>+<kbd>ENTRÉE</kbd>). Tu vas voir apparaître une figure qui correspond à la trajectoire du volant de badminton, animé d'une vitesse initiale de norme $v_0$ et dont la direction forme un angle $\\theta_0$ avec l'horizontale. Tu pourras faire varier les valeurs de $v_0$ et de $\\theta_0$ à l'aide de curseur.\n",
    "\n",
    "La suite sera consacrée au décorticage du code."
   ]
  },
  {
   "cell_type": "code",
   "execution_count": null,
   "metadata": {},
   "outputs": [],
   "source": [
    "%matplotlib notebook\n",
    "from ipywidgets import interact\n",
    "\n",
    "import numpy as np\n",
    "from scipy.integrate import odeint\n",
    "from matplotlib import pyplot as plt\n",
    "\n",
    "m = 5E-3 # kg\n",
    "g = 9.81 # m/s²\n",
    "rho = 1.2 # kg/m³\n",
    "S = 2.8E-3 # m²\n",
    "\n",
    "def solve(v0 = 58, theta0 = 52, Cx = 0.6):\n",
    "    theta0 = theta0 * np.pi / 180\n",
    "    \n",
    "    def loi_de_newton(dAdt, t):\n",
    "        x = dAdt[0] ; vx = dAdt[1] ; y = dAdt[2] ; vy = dAdt[3]\n",
    "        return [vx, \n",
    "                - 0.5 * rho * S * Cx * np.sqrt(vx**2 + vy**2) * vx / m,\n",
    "                vy, \n",
    "                -g - 0.5 * rho * S * Cx * np.sqrt(vx**2 + vy**2) * vy / m]\n",
    "    \n",
    "    dAdt0 = [0, v0 * np.cos(theta0), 0, v0 * np.sin(theta0)]\n",
    "    \n",
    "    t = np.linspace(0, 3, 300)\n",
    "    \n",
    "    sol = odeint(loi_de_newton, dAdt0, t)\n",
    "\n",
    "    x = sol[:, 0]\n",
    "    y = sol[:, 2]\n",
    "    \n",
    "    fig, ax = plt.subplots(figsize = (6, 4))\n",
    "    \n",
    "    ax.set_xlim(0, 15)\n",
    "    ax.set_ylim(0, 12)\n",
    "    \n",
    "    ax.set_aspect('equal')\n",
    "    \n",
    "    ax.set_xlabel('x (m)')\n",
    "    ax.set_ylabel('y (m)')\n",
    "    \n",
    "    ax.plot(x[y >= 0], y[y >= 0])\n",
    "\n",
    "interact(solve, v0 = (0., 70., 5), theta0 = (0., 90., 5.), Cx = (0., 2, .1));"
   ]
  },
  {
   "cell_type": "markdown",
   "metadata": {},
   "source": [
    "# Bibliothèques\n",
    "\n",
    "Les bibliothèques dont nous allons nous servir sont les mêmes que celles de l'activité informatique précédente."
   ]
  },
  {
   "cell_type": "code",
   "execution_count": null,
   "metadata": {},
   "outputs": [],
   "source": [
    "%matplotlib notebook\n",
    "import numpy as np\n",
    "from scipy.integrate import odeint\n",
    "from matplotlib import pyplot as plt"
   ]
  },
  {
   "cell_type": "markdown",
   "metadata": {},
   "source": [
    "# Paramètres physiques\n",
    "\n",
    "Définissons ensuite les variables `m`, `g`, `v0`, `theta0`, `rho`, `S` et `Cx` qui correspondent respectivement à :\n",
    "\n",
    "* la masse du volant ;\n",
    "* l'accélération de la pesanteur ;\n",
    "* la norme de la vitesse initiale ;\n",
    "* l'angle que forme le vecteur vitesse initiale avec l'horizontale ;\n",
    "* la masse volumique de l'air ;\n",
    "* le maître couple du volant ;\n",
    "* le $C_x$ du volant. \n",
    "\n",
    "Les valeurs numériques de ces grandeurs sont exprimées dans les unités de base du système internationale. Nous donnons ici des valeurs correspondant à un volant en plume. J'ai utilisé les valeurs données dans [cet article](https://hal-polytechnique.archives-ouvertes.fr/hal-01214304/document)."
   ]
  },
  {
   "cell_type": "code",
   "execution_count": null,
   "metadata": {},
   "outputs": [],
   "source": [
    "# Masse\n",
    "m = 5E-3 # kg\n",
    "# Accélération de la pesanteur\n",
    "g = 9.81 # m/s²\n",
    "# Norme de la vitesse initiale\n",
    "v0 = 58 # m/s\n",
    "# Angle de la vitesse initiale par rapport à l'axe (Ox)\n",
    "theta0 = 52 # °\n",
    "theta0 = theta0 * np.pi / 180 # Conversion en radians\n",
    "# Masse volumique de l'air\n",
    "rho = 1.2 # kg/m³\n",
    "# Maître couple du volant\n",
    "S = 2.8E-3 # m²\n",
    "# Cx (coefficient de traînée)\n",
    "Cx = 0.6 # Sans dimension"
   ]
  },
  {
   "cell_type": "markdown",
   "metadata": {},
   "source": [
    "# Équation différentielle\n",
    "\n",
    "On définit ensuite l'équation différentielle qui est obtenue à l'aide de la deuxième loi de Newton. La deuxième loi de Newton s'écrit : $m \\vec{a} = m \\vec{g} + \\vec{F}$, où la force de frottement $\\vec{F}$ s'écrit $\\vec{F} = - \\frac{1}{2} \\rho S C_x v^2 \\frac{\\vec{v}}{\\|\\vec{v}\\|}$.\n",
    "\n",
    "En projection sur les vecteurs unitaires $\\vec{e}_x$ horizontal et $\\vec{e}_y$ vertical, on a : $$\\left\\{\\begin{array}{ccl} \\frac{dv_x}{dt} & = & - \\frac{1}{2 m} \\rho S C_x \\sqrt{v_x^2 + v_y^2} v_x \\\\ \\frac{dv_x}{dt} & = & -g - \\frac{1}{2 m} \\rho S C_x \\sqrt{v_x^2 + v_y^2} v_y \\end{array}\\right..$$\n",
    "\n",
    "En outre, les vitesses $v_x$ et $v_y$ sont définies par : $\\left\\{\\begin{array}{ccc} \\frac{dx}{dt} & = & v_x \\\\ \\frac{dy}{dt} & = & v_y \\end{array}\\right.$.\n",
    "\n",
    "C'est exactement ces quatre égalités-là qui découlent de la loi de Newton et qui définissent l'équation différentielle que nous allons résoudre numériquement. \n",
    "\n",
    "Pour cela, nous allons définir une fonction `loi_de_newton`. Elle prend deux arguments : \n",
    "\n",
    "* une `list`(liste), notée `dAdt`, de quatre éléments contenant, dans l'ordre, les valeurs de $x$, $v_x$, $y$ et $v_y$ ;\n",
    "* un `float` (flottant), noté `t`, précisant la date $t$ à laquelle sont prises les valeurs de $x$, $v_x$, $y$ et $v_y$.\n",
    "\n",
    "La fonction renvoie une `list` de quatre éléments qui correspondent, dans l'ordre, à la dérivée des éléments de `dAdt`, soit :\n",
    "\n",
    "* $v_x$ pour $x$ ;\n",
    "* $- \\frac{1}{2 m} \\rho S C_x \\sqrt{v_x^2 + v_y^2} v_x$ pour $v_x$ ;\n",
    "* $v_y$ pour $y$ ;\n",
    "* $-g - \\frac{1}{2 m} \\rho S C_x \\sqrt{v_x^2 + v_y^2} v_y$ pour $v_y$."
   ]
  },
  {
   "cell_type": "code",
   "execution_count": null,
   "metadata": {},
   "outputs": [],
   "source": [
    "def loi_de_newton(dAdt, t):\n",
    "    x = dAdt[0] ; vx = dAdt[1] ; y = dAdt[2] ; vy = dAdt[3]\n",
    "    return [vx, \n",
    "            - 0.5 * rho * S * Cx * np.sqrt(vx**2 + vy**2) * vx / m,\n",
    "            vy, \n",
    "            -g - 0.5 * rho * S * Cx * np.sqrt(vx**2 + vy**2) * vy / m]"
   ]
  },
  {
   "cell_type": "markdown",
   "metadata": {},
   "source": [
    "Tu as remarqué ? C'est très pratique : on peut aller à la ligne après chaque virgule lorsque l'on définit une `list`. C'est plus lisible comme ça !"
   ]
  },
  {
   "cell_type": "markdown",
   "metadata": {},
   "source": [
    "# Conditions intiales\n",
    "\n",
    "Définissons les conditions initiales : $x(0) = 0$, $v_x(0) = v_0 \\cos \\theta_0$, $y(0) = 0$ et $v_y(0) = v_0 \\sin \\theta_0$."
   ]
  },
  {
   "cell_type": "code",
   "execution_count": null,
   "metadata": {},
   "outputs": [],
   "source": [
    "dAdt0 = [0, v0 * np.cos(theta0), 0, v0 * np.sin(theta0)]"
   ]
  },
  {
   "cell_type": "markdown",
   "metadata": {},
   "source": [
    "# Dates associées à la résolution numérique\n",
    "\n",
    "On définit les dates à laquelle on cherche la solution numérique de l'équation différentielle. J'ai choisit d'avoir 300 dates sur une durée de $3\\,\\mathrm{s}$."
   ]
  },
  {
   "cell_type": "code",
   "execution_count": null,
   "metadata": {},
   "outputs": [],
   "source": [
    "t = np.linspace(0, 3, 300)"
   ]
  },
  {
   "cell_type": "markdown",
   "metadata": {},
   "source": [
    "# Résolution de l'équation différentielle\n",
    "\n",
    "Ça y est : tout est prêt. Utilisons `odeint` pour résoudre l'équation différentielle."
   ]
  },
  {
   "cell_type": "code",
   "execution_count": null,
   "metadata": {},
   "outputs": [],
   "source": [
    "sol = odeint(loi_de_newton, dAdt0, t)"
   ]
  },
  {
   "cell_type": "markdown",
   "metadata": {},
   "source": [
    "Et voilà, c'est fait ! Il ne reste plus qu'à tracer ce qui nous intéresse. Je te propose de tracer la trajectoire dans le plan $(O, \\vec{e}_x, \\vec{e}_y)$, soit $y(t)$ en fonction de $x(t)$. "
   ]
  },
  {
   "cell_type": "code",
   "execution_count": null,
   "metadata": {},
   "outputs": [],
   "source": [
    "x = sol[:, 0]\n",
    "vx = sol[:, 1]\n",
    "y = sol[:, 2]\n",
    "vy = sol[:, 3]"
   ]
  },
  {
   "cell_type": "markdown",
   "metadata": {},
   "source": [
    "On finit par utiliser `matplotlib` et sa commande `plot` à laquelle on donne en argument l'abscisse `x` et l'ordonnée `y`. Il ne reste plus qu'à afficher !"
   ]
  },
  {
   "cell_type": "code",
   "execution_count": null,
   "metadata": {},
   "outputs": [],
   "source": [
    "fig2, ax = plt.subplots(figsize = (6, 4))\n",
    "# On définit les bornes des axes (en m)\n",
    "ax.set_xlim(0, 15)\n",
    "ax.set_ylim(0, 12)\n",
    "\n",
    "# On fait en sorte que les deux axes aient la même échelle (afin que l'angle theta0 \n",
    "# soit correctement « visible » sur le graphe)\n",
    "ax.set_aspect('equal')\n",
    "\n",
    "# On ajoute la légende des axes\n",
    "ax.set_xlabel('x (m)')\n",
    "ax.set_ylabel('y (m)')\n",
    "\n",
    "# On trace...\n",
    "ax.plot(x, y)\n",
    "\n",
    "# ...et on affiche\n",
    "fig2.show()"
   ]
  },
  {
   "cell_type": "markdown",
   "metadata": {},
   "source": [
    "En complétant la cellule ci-dessous, amuse-toi à tracer l'évolution du rapport des normes du poids et de la force de frottement. Que retrouves-tu ?"
   ]
  },
  {
   "cell_type": "code",
   "execution_count": null,
   "metadata": {},
   "outputs": [],
   "source": [
    "fig3, ax = plt.subplots(figsize = (6, 4))\n",
    "\n",
    "# Complète ci-dessous !\n",
    "\n",
    "\n",
    "fig3.show()"
   ]
  }
 ],
 "metadata": {
  "kernelspec": {
   "display_name": "Python 3",
   "language": "python",
   "name": "python3"
  },
  "language_info": {
   "codemirror_mode": {
    "name": "ipython",
    "version": 3
   },
   "file_extension": ".py",
   "mimetype": "text/x-python",
   "name": "python",
   "nbconvert_exporter": "python",
   "pygments_lexer": "ipython3",
   "version": "3.6.6"
  },
  "notebookname": "Volant",
  "version": "1.0"
 },
 "nbformat": 4,
 "nbformat_minor": 2
}
